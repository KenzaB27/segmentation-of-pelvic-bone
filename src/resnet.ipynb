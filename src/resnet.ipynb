{
  "nbformat": 4,
  "nbformat_minor": 0,
  "metadata": {
    "orig_nbformat": 2,
    "colab": {
      "name": "resnet.ipynb",
      "provenance": [],
      "toc_visible": true,
      "machine_shape": "hm",
      "include_colab_link": true
    },
    "accelerator": "GPU",
    "language_info": {
      "name": "python"
    },
    "kernelspec": {
      "name": "python3",
      "display_name": "Python 3"
    }
  },
  "cells": [
    {
      "cell_type": "markdown",
      "metadata": {
        "id": "view-in-github",
        "colab_type": "text"
      },
      "source": [
        "<a href=\"https://colab.research.google.com/github/KenzaB27/segmentation-of-pelvic-bone/blob/main/src/resnet.ipynb\" target=\"_parent\"><img src=\"https://colab.research.google.com/assets/colab-badge.svg\" alt=\"Open In Colab\"/></a>"
      ]
    },
    {
      "cell_type": "markdown",
      "metadata": {
        "id": "h_s_WhpvmWGY"
      },
      "source": [
        "## Environment Setup"
      ]
    },
    {
      "cell_type": "code",
      "metadata": {
        "colab": {
          "base_uri": "https://localhost:8080/"
        },
        "id": "P6mr-3VPmgw7",
        "outputId": "6853a2e1-54fb-44eb-bab5-372d8a36c983"
      },
      "source": [
        "!nvidia-smi"
      ],
      "execution_count": 1,
      "outputs": [
        {
          "output_type": "stream",
          "text": [
            "Wed May 26 19:22:41 2021       \n",
            "+-----------------------------------------------------------------------------+\n",
            "| NVIDIA-SMI 465.19.01    Driver Version: 460.32.03    CUDA Version: 11.2     |\n",
            "|-------------------------------+----------------------+----------------------+\n",
            "| GPU  Name        Persistence-M| Bus-Id        Disp.A | Volatile Uncorr. ECC |\n",
            "| Fan  Temp  Perf  Pwr:Usage/Cap|         Memory-Usage | GPU-Util  Compute M. |\n",
            "|                               |                      |               MIG M. |\n",
            "|===============================+======================+======================|\n",
            "|   0  Tesla P100-PCIE...  Off  | 00000000:00:04.0 Off |                    0 |\n",
            "| N/A   38C    P0    27W / 250W |      0MiB / 16280MiB |      0%      Default |\n",
            "|                               |                      |                  N/A |\n",
            "+-------------------------------+----------------------+----------------------+\n",
            "                                                                               \n",
            "+-----------------------------------------------------------------------------+\n",
            "| Processes:                                                                  |\n",
            "|  GPU   GI   CI        PID   Type   Process name                  GPU Memory |\n",
            "|        ID   ID                                                   Usage      |\n",
            "|=============================================================================|\n",
            "|  No running processes found                                                 |\n",
            "+-----------------------------------------------------------------------------+\n"
          ],
          "name": "stdout"
        }
      ]
    },
    {
      "cell_type": "code",
      "metadata": {
        "colab": {
          "base_uri": "https://localhost:8080/"
        },
        "id": "iehzteGzm5VK",
        "outputId": "c5c65928-1ea0-48ca-817c-41fa2adbb41c"
      },
      "source": [
        "from google.colab import drive\n",
        "drive.mount('/content/drive')"
      ],
      "execution_count": 2,
      "outputs": [
        {
          "output_type": "stream",
          "text": [
            "Mounted at /content/drive\n"
          ],
          "name": "stdout"
        }
      ]
    },
    {
      "cell_type": "code",
      "metadata": {
        "id": "h_7-8LepmaJ7",
        "colab": {
          "base_uri": "https://localhost:8080/"
        },
        "outputId": "a11d2de0-f5d0-4413-a4b8-7c151799edfe"
      },
      "source": [
        "!git clone https://github.com/KenzaB27/segmentation-of-pelvic-bone.git\n",
        "!pip install SimpleITK\n",
        "%cd /content/segmentation-of-pelvic-bone/src"
      ],
      "execution_count": 3,
      "outputs": [
        {
          "output_type": "stream",
          "text": [
            "Cloning into 'segmentation-of-pelvic-bone'...\n",
            "remote: Enumerating objects: 177, done.\u001b[K\n",
            "remote: Counting objects: 100% (177/177), done.\u001b[K\n",
            "remote: Compressing objects: 100% (114/114), done.\u001b[K\n",
            "remote: Total 177 (delta 95), reused 128 (delta 55), pack-reused 0\u001b[K\n",
            "Receiving objects: 100% (177/177), 3.11 MiB | 29.26 MiB/s, done.\n",
            "Resolving deltas: 100% (95/95), done.\n",
            "Collecting SimpleITK\n",
            "\u001b[?25l  Downloading https://files.pythonhosted.org/packages/9c/6b/85df5eb3a8059b23a53a9f224476e75473f9bcc0a8583ed1a9c34619f372/SimpleITK-2.0.2-cp37-cp37m-manylinux2010_x86_64.whl (47.4MB)\n",
            "\u001b[K     |████████████████████████████████| 47.4MB 106kB/s \n",
            "\u001b[?25hInstalling collected packages: SimpleITK\n",
            "Successfully installed SimpleITK-2.0.2\n",
            "/content/segmentation-of-pelvic-bone/src\n"
          ],
          "name": "stdout"
        }
      ]
    },
    {
      "cell_type": "code",
      "metadata": {
        "colab": {
          "base_uri": "https://localhost:8080/"
        },
        "id": "BN6_wZKQmkqt",
        "outputId": "595fb5bc-3ee9-43c9-ac04-14995c7f0ec1"
      },
      "source": [
        "!git pull"
      ],
      "execution_count": 4,
      "outputs": [
        {
          "output_type": "stream",
          "text": [
            "Already up to date.\n"
          ],
          "name": "stdout"
        }
      ]
    },
    {
      "cell_type": "code",
      "metadata": {
        "id": "Q3KMHk00mURU"
      },
      "source": [
        "from sklearn.model_selection import train_test_split\n",
        "import matplotlib.pyplot as plt\n",
        "import SimpleITK as sitk\n",
        "import analysis as ana\n",
        "import numpy as np \n",
        "import importlib\n",
        "\n",
        "import tensorflow as tf \n",
        "tfk = tf.keras\n",
        "tfkl = tfk.layers"
      ],
      "execution_count": 5,
      "outputs": []
    },
    {
      "cell_type": "code",
      "metadata": {
        "id": "TT-Bbg8HmURY"
      },
      "source": [
        "PATH = \"/content/drive/My Drive/KTH/HL2027/\"\n",
        "DATA_PATH = PATH +'data/'"
      ],
      "execution_count": 6,
      "outputs": []
    },
    {
      "cell_type": "markdown",
      "metadata": {
        "id": "V-gyXcaYn4oF"
      },
      "source": [
        "## Load Data"
      ]
    },
    {
      "cell_type": "code",
      "metadata": {
        "colab": {
          "base_uri": "https://localhost:8080/"
        },
        "id": "yG5gB8NU6Nhl",
        "outputId": "0dd9d1c7-1e19-44ac-b5bf-cfd1dc0ee7f6"
      },
      "source": [
        "%%time\n",
        "importlib.reload(ana)\n",
        "data = ana.PelvicData(root_path=PATH)"
      ],
      "execution_count": 7,
      "outputs": [
        {
          "output_type": "stream",
          "text": [
            "CPU times: user 13.6 s, sys: 4.08 s, total: 17.7 s\n",
            "Wall time: 34.8 s\n"
          ],
          "name": "stdout"
        }
      ]
    },
    {
      "cell_type": "code",
      "metadata": {
        "colab": {
          "base_uri": "https://localhost:8080/"
        },
        "id": "f8kUSS599YWG",
        "outputId": "a10a3b29-c2fd-46f5-d827-9e88e2430f71"
      },
      "source": [
        "data.cmn_img_3c[42].shape"
      ],
      "execution_count": 8,
      "outputs": [
        {
          "output_type": "execute_result",
          "data": {
            "text/plain": [
              "(291, 512, 512, 3)"
            ]
          },
          "metadata": {
            "tags": []
          },
          "execution_count": 8
        }
      ]
    },
    {
      "cell_type": "code",
      "metadata": {
        "colab": {
          "base_uri": "https://localhost:8080/"
        },
        "id": "ge65C6J6n4Qz",
        "outputId": "dcf3c22d-101a-4cef-c2ba-937bad91d648"
      },
      "source": [
        "X_train, X_val, y_train, y_val = train_test_split(data.X_train_3C, data.y_train, test_size=0.15, random_state=42, stratify=data.y_train)\n",
        "print(f\"X train shape:{X_train.shape}, y train shape:{y_train.shape} \")\n",
        "print(f\"X val shape:{X_val.shape}, y val shape:{y_val.shape} \")"
      ],
      "execution_count": 10,
      "outputs": [
        {
          "output_type": "stream",
          "text": [
            "X train shape:(729, 512, 512, 3), y train shape:(729,) \n",
            "X val shape:(129, 512, 512, 3), y val shape:(129,) \n"
          ],
          "name": "stdout"
        }
      ]
    },
    {
      "cell_type": "markdown",
      "metadata": {
        "id": "CDjJJCQAmURd"
      },
      "source": [
        "## ResNet V2"
      ]
    },
    {
      "cell_type": "code",
      "metadata": {
        "id": "7R1aPuLbmURe"
      },
      "source": [
        "input = tfkl.Input([None, None, 3], dtype = tf.int16)\n",
        "x = tf.cast(input, tf.float32)\n",
        "x = tfk.applications.resnet_v2.preprocess_input(x)\n",
        "resnet_model = tfk.applications.ResNet50V2(weights=\"imagenet\", include_top=False, pooling=\"max\")\n",
        "resnet_output = resnet_model(x)\n",
        "hidden_layer = tfkl.Dense(256, activation='relu')(resnet_output)\n",
        "hl_reg = tfkl.Dropout(0.2)(hidden_layer)\n",
        "output_layer = tf.keras.layers.Dense(1, activation='sigmoid')(hl_reg)\n",
        "model = tf.keras.models.Model(inputs=input, outputs=output_layer)"
      ],
      "execution_count": 19,
      "outputs": []
    },
    {
      "cell_type": "code",
      "metadata": {
        "colab": {
          "base_uri": "https://localhost:8080/"
        },
        "id": "MEaSV-ammURf",
        "outputId": "20b045c1-e795-4b5c-c181-9aa5162443f8"
      },
      "source": [
        "model.summary()"
      ],
      "execution_count": 20,
      "outputs": [
        {
          "output_type": "stream",
          "text": [
            "Model: \"model_2\"\n",
            "_________________________________________________________________\n",
            "Layer (type)                 Output Shape              Param #   \n",
            "=================================================================\n",
            "input_5 (InputLayer)         [(None, None, None, 3)]   0         \n",
            "_________________________________________________________________\n",
            "tf.cast_2 (TFOpLambda)       (None, None, None, 3)     0         \n",
            "_________________________________________________________________\n",
            "tf.math.truediv_2 (TFOpLambd (None, None, None, 3)     0         \n",
            "_________________________________________________________________\n",
            "tf.math.subtract_2 (TFOpLamb (None, None, None, 3)     0         \n",
            "_________________________________________________________________\n",
            "resnet50v2 (Functional)      (None, 2048)              23564800  \n",
            "_________________________________________________________________\n",
            "dense_4 (Dense)              (None, 256)               524544    \n",
            "_________________________________________________________________\n",
            "dropout_2 (Dropout)          (None, 256)               0         \n",
            "_________________________________________________________________\n",
            "dense_5 (Dense)              (None, 1)                 257       \n",
            "=================================================================\n",
            "Total params: 24,089,601\n",
            "Trainable params: 24,044,161\n",
            "Non-trainable params: 45,440\n",
            "_________________________________________________________________\n"
          ],
          "name": "stdout"
        }
      ]
    },
    {
      "cell_type": "markdown",
      "metadata": {
        "id": "baivHn9TmURf"
      },
      "source": [
        "### Training "
      ]
    },
    {
      "cell_type": "code",
      "metadata": {
        "id": "Bu_fE4h6mURf"
      },
      "source": [
        "# first: train only the top layers (which were randomly initialized)\n",
        "# i.e. freeze all convolutional InceptionV3 layers\n",
        "resnet_model.trainable = False\n",
        "for layer in resnet_model.layers:\n",
        "    layer.trainable = False\n",
        "\n",
        "# compile the model (should be done *after* setting layers to non-trainable)\n",
        "optimizer = tf.keras.optimizers.Adam(learning_rate=0.0001, decay=1e-3)\n",
        "model.compile(optimizer=optimizer, loss='binary_crossentropy', \n",
        "              metrics=['acc'])"
      ],
      "execution_count": 21,
      "outputs": []
    },
    {
      "cell_type": "code",
      "metadata": {
        "colab": {
          "base_uri": "https://localhost:8080/"
        },
        "id": "Ec-dOpUqmURg",
        "outputId": "26492653-4b8b-4f03-c98a-f459622711ca"
      },
      "source": [
        "checkpoint_filepath = PATH + '/checkpoint/'\n",
        "model_checkpoint_callback = tf.keras.callbacks.ModelCheckpoint(\n",
        "    filepath=checkpoint_filepath,\n",
        "    save_weights_only=True,\n",
        "    monitor='val_acc',\n",
        "    mode='max',\n",
        "    save_best_only=True)\n",
        "history = model.fit(x=X_train, y=y_train, epochs=50, batch_size=32, validation_data=(X_val, y_val), callbacks=[model_checkpoint_callback])\n",
        "model.load_weights(checkpoint_filepath)"
      ],
      "execution_count": null,
      "outputs": [
        {
          "output_type": "stream",
          "text": [
            "Epoch 1/50\n",
            "23/23 [==============================] - 11s 307ms/step - loss: 14.3913 - acc: 0.7805 - val_loss: 4.2220 - val_acc: 0.8837\n",
            "Epoch 2/50\n",
            "23/23 [==============================] - 6s 260ms/step - loss: 9.7903 - acc: 0.8313 - val_loss: 1.8385 - val_acc: 0.8915\n",
            "Epoch 3/50\n",
            "23/23 [==============================] - 6s 262ms/step - loss: 7.5004 - acc: 0.8203 - val_loss: 0.9530 - val_acc: 0.9070\n",
            "Epoch 4/50\n",
            "23/23 [==============================] - 6s 259ms/step - loss: 5.5431 - acc: 0.8436 - val_loss: 0.1619 - val_acc: 0.9767\n",
            "Epoch 5/50\n",
            "23/23 [==============================] - 6s 259ms/step - loss: 4.3883 - acc: 0.8711 - val_loss: 0.1328 - val_acc: 0.9690\n",
            "Epoch 6/50\n",
            "23/23 [==============================] - 6s 259ms/step - loss: 3.1032 - acc: 0.8889 - val_loss: 2.0639 - val_acc: 0.8837\n",
            "Epoch 7/50\n",
            "23/23 [==============================] - 6s 260ms/step - loss: 4.4991 - acc: 0.8697 - val_loss: 0.4102 - val_acc: 0.9457\n",
            "Epoch 8/50\n",
            "23/23 [==============================] - 6s 262ms/step - loss: 1.5487 - acc: 0.9232 - val_loss: 1.2975 - val_acc: 0.8915\n",
            "Epoch 9/50\n",
            "23/23 [==============================] - 6s 260ms/step - loss: 1.9126 - acc: 0.8999 - val_loss: 0.0178 - val_acc: 0.9845\n",
            "Epoch 10/50\n",
            "23/23 [==============================] - 6s 260ms/step - loss: 1.5184 - acc: 0.9177 - val_loss: 0.0326 - val_acc: 0.9767\n",
            "Epoch 11/50\n",
            "23/23 [==============================] - 6s 261ms/step - loss: 1.0291 - acc: 0.9246 - val_loss: 0.0060 - val_acc: 1.0000\n",
            "Epoch 12/50\n",
            "23/23 [==============================] - 6s 260ms/step - loss: 0.9393 - acc: 0.9342 - val_loss: 0.5524 - val_acc: 0.9457\n",
            "Epoch 13/50\n",
            "23/23 [==============================] - 6s 261ms/step - loss: 0.7786 - acc: 0.9328 - val_loss: 0.5119 - val_acc: 0.9535\n",
            "Epoch 14/50\n",
            "23/23 [==============================] - 6s 260ms/step - loss: 0.8392 - acc: 0.9259 - val_loss: 0.0022 - val_acc: 1.0000\n",
            "Epoch 15/50\n",
            "23/23 [==============================] - 6s 261ms/step - loss: 0.2736 - acc: 0.9684 - val_loss: 0.3647 - val_acc: 0.9535\n",
            "Epoch 16/50\n",
            " 5/23 [=====>........................] - ETA: 3s - loss: 0.2532 - acc: 0.9625"
          ],
          "name": "stdout"
        }
      ]
    },
    {
      "cell_type": "code",
      "metadata": {
        "id": "TIy9dDtzpe7H"
      },
      "source": [
        "plt.figure()\n",
        "plt.plot(history.history[\"loss\"], label=\"training loss\")\n",
        "plt.plot(history.history[\"val_loss\"], label=\"validation loss\")\n",
        "plt.title(\"Loss for Inception model\")\n",
        "plt.xlabel(\"Epoch\")\n",
        "plt.ylabel(\"Loss\")\n",
        "plt.legend()\n",
        "plt.show()"
      ],
      "execution_count": null,
      "outputs": []
    },
    {
      "cell_type": "code",
      "metadata": {
        "id": "HaR6U9xfq9Vl"
      },
      "source": [
        "plt.figure()\n",
        "plt.plot(history.history[\"acc\"], label=\"training accuracy\")\n",
        "plt.plot(history.history[\"val_acc\"], label=\"validation accuracy\")\n",
        "plt.title(\"Accuracy for Inception model\")\n",
        "plt.xlabel(\"Epoch\")\n",
        "plt.ylabel(\"Loss\")\n",
        "plt.legend()\n",
        "plt.show()"
      ],
      "execution_count": null,
      "outputs": []
    },
    {
      "cell_type": "markdown",
      "metadata": {
        "id": "C4U5F9HH8zpI"
      },
      "source": [
        "# Test Performance on Common Images"
      ]
    },
    {
      "cell_type": "code",
      "metadata": {
        "id": "CKu5YpWt83uI"
      },
      "source": [
        "%%time\n",
        "for id, cmn_img in data.cmn_img_3c.items():\n",
        "  y_pred = model.predict(cmn_img)\n",
        "  argmax = np.argmax(y_pred)\n",
        "  plt.figure()\n",
        "  \n",
        "  plt.subplot(121)\n",
        "  plt.plot(y_pred)\n",
        "  plt.title(f\"Probability for case {id}\")\n",
        "\n",
        "  plt.subplot(122)\n",
        "  plt.imshow(data.cmn_img[id][argmax], cmap=\"gray\")\n",
        "  plt.show()"
      ],
      "execution_count": null,
      "outputs": []
    }
  ]
}