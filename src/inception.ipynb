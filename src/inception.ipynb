{
  "nbformat": 4,
  "nbformat_minor": 0,
  "metadata": {
    "orig_nbformat": 2,
    "kernelspec": {
      "name": "python3",
      "display_name": "Python 3"
    },
    "colab": {
      "name": "inception.ipynb",
      "provenance": [],
      "toc_visible": true,
      "machine_shape": "hm"
    },
    "language_info": {
      "name": "python"
    },
    "accelerator": "GPU"
  },
  "cells": [
    {
      "cell_type": "markdown",
      "metadata": {
        "id": "h_s_WhpvmWGY"
      },
      "source": [
        "## Environment Setup"
      ]
    },
    {
      "cell_type": "code",
      "metadata": {
        "id": "P6mr-3VPmgw7"
      },
      "source": [
        "# !nvidia-smi"
      ],
      "execution_count": null,
      "outputs": []
    },
    {
      "cell_type": "code",
      "metadata": {
        "colab": {
          "base_uri": "https://localhost:8080/"
        },
        "id": "iehzteGzm5VK",
        "outputId": "c0786050-6f15-4045-a3ef-76f17faa1bbc"
      },
      "source": [
        "from google.colab import drive\n",
        "drive.mount('/content/drive')"
      ],
      "execution_count": 3,
      "outputs": [
        {
          "output_type": "stream",
          "text": [
            "Mounted at /content/drive\n"
          ],
          "name": "stdout"
        }
      ]
    },
    {
      "cell_type": "code",
      "metadata": {
        "id": "h_7-8LepmaJ7"
      },
      "source": [
        "!git clone https://github.com/KenzaB27/segmentation-of-pelvic-bone.git\n",
        "%cd /content/segmentation-of-pelvic-bone/src"
      ],
      "execution_count": null,
      "outputs": []
    },
    {
      "cell_type": "code",
      "metadata": {
        "id": "S8FuPWqVnSx3"
      },
      "source": [
        "!pip install SimpleITK"
      ],
      "execution_count": null,
      "outputs": []
    },
    {
      "cell_type": "code",
      "metadata": {
        "id": "BN6_wZKQmkqt"
      },
      "source": [
        "!git pull"
      ],
      "execution_count": null,
      "outputs": []
    },
    {
      "cell_type": "code",
      "metadata": {
        "id": "Q3KMHk00mURU"
      },
      "source": [
        "from sklearn.model_selection import train_test_split\n",
        "import matplotlib.pyplot as plt\n",
        "import SimpleITK as sitk\n",
        "import analysis as ana\n",
        "import numpy as np \n",
        "import importlib\n",
        "\n",
        "import tensorflow as tf \n",
        "tfk = tf.keras\n",
        "tfkl = tfk.layers"
      ],
      "execution_count": 47,
      "outputs": []
    },
    {
      "cell_type": "code",
      "metadata": {
        "id": "TT-Bbg8HmURY"
      },
      "source": [
        "PATH = \"/content/drive/My Drive/KTH/HL2027/\"\n",
        "DATA_PATH = PATH +'data/'"
      ],
      "execution_count": 58,
      "outputs": []
    },
    {
      "cell_type": "markdown",
      "metadata": {
        "id": "V-gyXcaYn4oF"
      },
      "source": [
        "## Load Data"
      ]
    },
    {
      "cell_type": "code",
      "metadata": {
        "colab": {
          "base_uri": "https://localhost:8080/"
        },
        "id": "ge65C6J6n4Qz",
        "outputId": "d56638d9-6054-45e0-a77a-bf660b35bb2e"
      },
      "source": [
        "X_train_3C = np.load(DATA_PATH + \"train_X_3C.npy\")\n",
        "y_train = np.load(DATA_PATH + \"train_y.npy\")\n",
        "\n",
        "X_train, X_val, y_train, y_val = train_test_split(X_train_3C, y_train, test_size=0.15, random_state=42, stratify=y_train)\n",
        "print(f\"X train shape:{X_train.shape}, y train shape:{y_train.shape} \")\n",
        "print(f\"X val shape:{X_val.shape}, y val shape:{y_val.shape} \")"
      ],
      "execution_count": 50,
      "outputs": [
        {
          "output_type": "stream",
          "text": [
            "X train shape:(729, 512, 512, 3), y train shape:(729,) \n",
            "X val shape:(129, 512, 512, 3), y val shape:(129,) \n"
          ],
          "name": "stdout"
        }
      ]
    },
    {
      "cell_type": "markdown",
      "metadata": {
        "id": "CDjJJCQAmURd"
      },
      "source": [
        "## Inception V3 "
      ]
    },
    {
      "cell_type": "code",
      "metadata": {
        "id": "7R1aPuLbmURe"
      },
      "source": [
        "input = tfkl.Input([None, None, 3], dtype = tf.int16)\n",
        "x = tf.cast(input, tf.float32)\n",
        "x = tfk.applications.inception_v3.preprocess_input(x)\n",
        "inception_model = tfk.applications.InceptionV3(weights=\"imagenet\", include_top=False, pooling=\"max\")\n",
        "inception_output = inception_model(x)\n",
        "hidden_layer = tfkl.Dense(512, activation='relu')(inception_output)\n",
        "hl_reg = tfkl.Dropout(0.2)(hidden_layer)\n",
        "output_layer = tf.keras.layers.Dense(1, activation='sigmoid')(hl_reg)\n",
        "model = tf.keras.models.Model(inputs=input, outputs=output_layer)"
      ],
      "execution_count": 60,
      "outputs": []
    },
    {
      "cell_type": "code",
      "metadata": {
        "colab": {
          "base_uri": "https://localhost:8080/"
        },
        "id": "MEaSV-ammURf",
        "outputId": "6be80062-f957-48fc-c9f6-34a4ca0a1184"
      },
      "source": [
        "model.summary()"
      ],
      "execution_count": 61,
      "outputs": [
        {
          "output_type": "stream",
          "text": [
            "Model: \"model_6\"\n",
            "_________________________________________________________________\n",
            "Layer (type)                 Output Shape              Param #   \n",
            "=================================================================\n",
            "input_13 (InputLayer)        [(None, None, None, 3)]   0         \n",
            "_________________________________________________________________\n",
            "tf.cast_6 (TFOpLambda)       (None, None, None, 3)     0         \n",
            "_________________________________________________________________\n",
            "tf.math.truediv_6 (TFOpLambd (None, None, None, 3)     0         \n",
            "_________________________________________________________________\n",
            "tf.math.subtract_6 (TFOpLamb (None, None, None, 3)     0         \n",
            "_________________________________________________________________\n",
            "inception_v3 (Functional)    (None, 2048)              21802784  \n",
            "_________________________________________________________________\n",
            "dense_12 (Dense)             (None, 512)               1049088   \n",
            "_________________________________________________________________\n",
            "dropout_6 (Dropout)          (None, 512)               0         \n",
            "_________________________________________________________________\n",
            "dense_13 (Dense)             (None, 1)                 513       \n",
            "=================================================================\n",
            "Total params: 22,852,385\n",
            "Trainable params: 22,817,953\n",
            "Non-trainable params: 34,432\n",
            "_________________________________________________________________\n"
          ],
          "name": "stdout"
        }
      ]
    },
    {
      "cell_type": "markdown",
      "metadata": {
        "id": "baivHn9TmURf"
      },
      "source": [
        "### Training "
      ]
    },
    {
      "cell_type": "code",
      "metadata": {
        "id": "Bu_fE4h6mURf"
      },
      "source": [
        "# first: train only the top layers (which were randomly initialized)\n",
        "# i.e. freeze all convolutional InceptionV3 layers\n",
        "inception_model.trainable = False\n",
        "for layer in inception_model.layers:\n",
        "    layer.trainable = False\n",
        "\n",
        "# compile the model (should be done *after* setting layers to non-trainable)\n",
        "# optimizer = tf.keras.optimizers.Adam(learning_rate=0.0001, decay=1e-3)\n",
        "model.compile(optimizer=\"adam\", loss='binary_crossentropy', \n",
        "              metrics=['acc'])"
      ],
      "execution_count": 62,
      "outputs": []
    },
    {
      "cell_type": "code",
      "metadata": {
        "colab": {
          "base_uri": "https://localhost:8080/"
        },
        "id": "Ec-dOpUqmURg",
        "outputId": "fda9d1c5-76cf-4ade-d736-5b19d78b10c7"
      },
      "source": [
        "checkpoint_filepath = PATH + '/checkpoint/'\n",
        "model_checkpoint_callback = tf.keras.callbacks.ModelCheckpoint(\n",
        "    filepath=checkpoint_filepath,\n",
        "    save_weights_only=True,\n",
        "    monitor='val_acc',\n",
        "    mode='max',\n",
        "    save_best_only=True)\n",
        "history = model.fit(x=X_train, y=y_train, epochs=50, batch_size=32, validation_data=(X_val, y_val), callbacks=[model_checkpoint_callback])"
      ],
      "execution_count": 63,
      "outputs": [
        {
          "output_type": "stream",
          "text": [
            "Epoch 1/50\n",
            "23/23 [==============================] - 9s 199ms/step - loss: 16.0781 - acc: 0.7764 - val_loss: 5.7848 - val_acc: 0.8837\n",
            "Epoch 2/50\n",
            "23/23 [==============================] - 3s 140ms/step - loss: 2.8811 - acc: 0.8052 - val_loss: 1.9856 - val_acc: 0.8837\n",
            "Epoch 3/50\n",
            "23/23 [==============================] - 3s 139ms/step - loss: 1.2422 - acc: 0.8573 - val_loss: 0.6437 - val_acc: 0.8837\n",
            "Epoch 4/50\n",
            "23/23 [==============================] - 3s 140ms/step - loss: 0.6519 - acc: 0.8711 - val_loss: 0.1220 - val_acc: 0.9457\n",
            "Epoch 5/50\n",
            "23/23 [==============================] - 3s 140ms/step - loss: 0.3294 - acc: 0.9026 - val_loss: 0.2805 - val_acc: 0.8837\n",
            "Epoch 6/50\n",
            "23/23 [==============================] - 3s 139ms/step - loss: 0.3566 - acc: 0.8793 - val_loss: 0.1205 - val_acc: 0.9535\n",
            "Epoch 7/50\n",
            "23/23 [==============================] - 3s 140ms/step - loss: 0.2196 - acc: 0.8957 - val_loss: 0.0988 - val_acc: 0.9767\n",
            "Epoch 8/50\n",
            "23/23 [==============================] - 3s 140ms/step - loss: 0.1604 - acc: 0.9287 - val_loss: 0.1064 - val_acc: 0.9690\n",
            "Epoch 9/50\n",
            "23/23 [==============================] - 3s 140ms/step - loss: 0.1442 - acc: 0.9259 - val_loss: 0.1984 - val_acc: 0.9070\n",
            "Epoch 10/50\n",
            "23/23 [==============================] - 3s 140ms/step - loss: 0.1830 - acc: 0.9095 - val_loss: 0.1081 - val_acc: 0.9690\n",
            "Epoch 11/50\n",
            "23/23 [==============================] - 3s 142ms/step - loss: 0.1600 - acc: 0.9287 - val_loss: 0.1235 - val_acc: 0.9457\n",
            "Epoch 12/50\n",
            "23/23 [==============================] - 3s 140ms/step - loss: 0.1296 - acc: 0.9369 - val_loss: 0.1164 - val_acc: 0.9690\n",
            "Epoch 13/50\n",
            "23/23 [==============================] - 3s 139ms/step - loss: 0.1549 - acc: 0.9287 - val_loss: 0.1038 - val_acc: 0.9612\n",
            "Epoch 14/50\n",
            "23/23 [==============================] - 3s 140ms/step - loss: 0.1394 - acc: 0.9369 - val_loss: 0.1286 - val_acc: 0.9457\n",
            "Epoch 15/50\n",
            "23/23 [==============================] - 3s 140ms/step - loss: 0.1223 - acc: 0.9534 - val_loss: 0.1292 - val_acc: 0.9147\n",
            "Epoch 16/50\n",
            "23/23 [==============================] - 3s 139ms/step - loss: 0.1313 - acc: 0.9396 - val_loss: 0.0838 - val_acc: 0.9845\n",
            "Epoch 17/50\n",
            "23/23 [==============================] - 3s 139ms/step - loss: 0.1040 - acc: 0.9520 - val_loss: 0.0877 - val_acc: 0.9767\n",
            "Epoch 18/50\n",
            "23/23 [==============================] - 3s 140ms/step - loss: 0.1013 - acc: 0.9602 - val_loss: 0.0973 - val_acc: 0.9612\n",
            "Epoch 19/50\n",
            "23/23 [==============================] - 3s 140ms/step - loss: 0.1163 - acc: 0.9465 - val_loss: 0.0903 - val_acc: 0.9690\n",
            "Epoch 20/50\n",
            "23/23 [==============================] - 3s 141ms/step - loss: 0.1267 - acc: 0.9438 - val_loss: 0.1530 - val_acc: 0.9380\n",
            "Epoch 21/50\n",
            "23/23 [==============================] - 3s 140ms/step - loss: 0.1378 - acc: 0.9396 - val_loss: 0.0898 - val_acc: 0.9767\n",
            "Epoch 22/50\n",
            "23/23 [==============================] - 3s 140ms/step - loss: 0.1128 - acc: 0.9451 - val_loss: 0.0805 - val_acc: 0.9767\n",
            "Epoch 23/50\n",
            "23/23 [==============================] - 3s 139ms/step - loss: 0.1111 - acc: 0.9547 - val_loss: 0.0692 - val_acc: 0.9767\n",
            "Epoch 24/50\n",
            "23/23 [==============================] - 3s 140ms/step - loss: 0.1125 - acc: 0.9561 - val_loss: 0.0815 - val_acc: 0.9690\n",
            "Epoch 25/50\n",
            "23/23 [==============================] - 3s 140ms/step - loss: 0.1048 - acc: 0.9520 - val_loss: 0.0817 - val_acc: 0.9767\n",
            "Epoch 26/50\n",
            "23/23 [==============================] - 3s 139ms/step - loss: 0.0958 - acc: 0.9588 - val_loss: 0.1777 - val_acc: 0.9225\n",
            "Epoch 27/50\n",
            "23/23 [==============================] - 3s 140ms/step - loss: 0.1350 - acc: 0.9383 - val_loss: 0.0786 - val_acc: 0.9690\n",
            "Epoch 28/50\n",
            "23/23 [==============================] - 3s 139ms/step - loss: 0.1431 - acc: 0.9355 - val_loss: 0.0869 - val_acc: 0.9690\n",
            "Epoch 29/50\n",
            "23/23 [==============================] - 3s 140ms/step - loss: 0.0997 - acc: 0.9657 - val_loss: 0.0726 - val_acc: 0.9767\n",
            "Epoch 30/50\n",
            "23/23 [==============================] - 3s 140ms/step - loss: 0.1416 - acc: 0.9396 - val_loss: 0.0808 - val_acc: 0.9690\n",
            "Epoch 31/50\n",
            "23/23 [==============================] - 3s 139ms/step - loss: 0.1648 - acc: 0.9259 - val_loss: 0.1233 - val_acc: 0.9457\n",
            "Epoch 32/50\n",
            "23/23 [==============================] - 3s 140ms/step - loss: 0.1055 - acc: 0.9561 - val_loss: 0.0554 - val_acc: 0.9922\n",
            "Epoch 33/50\n",
            "23/23 [==============================] - 3s 139ms/step - loss: 0.1048 - acc: 0.9602 - val_loss: 0.0679 - val_acc: 0.9690\n",
            "Epoch 34/50\n",
            "23/23 [==============================] - 3s 139ms/step - loss: 0.1049 - acc: 0.9602 - val_loss: 0.0655 - val_acc: 0.9922\n",
            "Epoch 35/50\n",
            "23/23 [==============================] - 3s 140ms/step - loss: 0.0749 - acc: 0.9726 - val_loss: 0.0513 - val_acc: 0.9845\n",
            "Epoch 36/50\n",
            "23/23 [==============================] - 3s 141ms/step - loss: 0.0745 - acc: 0.9698 - val_loss: 0.0832 - val_acc: 0.9767\n",
            "Epoch 37/50\n",
            "23/23 [==============================] - 3s 140ms/step - loss: 0.1669 - acc: 0.9287 - val_loss: 0.1050 - val_acc: 0.9457\n",
            "Epoch 38/50\n",
            "23/23 [==============================] - 3s 140ms/step - loss: 0.1012 - acc: 0.9451 - val_loss: 0.0642 - val_acc: 0.9845\n",
            "Epoch 39/50\n",
            "23/23 [==============================] - 3s 139ms/step - loss: 0.1145 - acc: 0.9438 - val_loss: 0.0530 - val_acc: 0.9767\n",
            "Epoch 40/50\n",
            "23/23 [==============================] - 3s 139ms/step - loss: 0.0691 - acc: 0.9767 - val_loss: 0.0690 - val_acc: 0.9767\n",
            "Epoch 41/50\n",
            "23/23 [==============================] - 3s 140ms/step - loss: 0.1046 - acc: 0.9588 - val_loss: 0.0648 - val_acc: 0.9845\n",
            "Epoch 42/50\n",
            "23/23 [==============================] - 3s 139ms/step - loss: 0.1039 - acc: 0.9602 - val_loss: 0.1004 - val_acc: 0.9457\n",
            "Epoch 43/50\n",
            "23/23 [==============================] - 3s 140ms/step - loss: 0.0872 - acc: 0.9616 - val_loss: 0.0685 - val_acc: 0.9845\n",
            "Epoch 44/50\n",
            "23/23 [==============================] - 3s 139ms/step - loss: 0.1028 - acc: 0.9561 - val_loss: 0.1117 - val_acc: 0.9380\n",
            "Epoch 45/50\n",
            "23/23 [==============================] - 3s 139ms/step - loss: 0.1325 - acc: 0.9396 - val_loss: 0.0776 - val_acc: 0.9845\n",
            "Epoch 46/50\n",
            "23/23 [==============================] - 3s 140ms/step - loss: 0.0985 - acc: 0.9588 - val_loss: 0.0680 - val_acc: 0.9690\n",
            "Epoch 47/50\n",
            "23/23 [==============================] - 3s 140ms/step - loss: 0.0913 - acc: 0.9671 - val_loss: 0.0513 - val_acc: 0.9845\n",
            "Epoch 48/50\n",
            "23/23 [==============================] - 3s 140ms/step - loss: 0.1055 - acc: 0.9547 - val_loss: 0.0544 - val_acc: 0.9767\n",
            "Epoch 49/50\n",
            "23/23 [==============================] - 3s 140ms/step - loss: 0.0770 - acc: 0.9767 - val_loss: 0.0585 - val_acc: 0.9767\n",
            "Epoch 50/50\n",
            "23/23 [==============================] - 3s 139ms/step - loss: 0.0800 - acc: 0.9630 - val_loss: 0.0638 - val_acc: 0.9767\n"
          ],
          "name": "stdout"
        }
      ]
    },
    {
      "cell_type": "code",
      "metadata": {
        "colab": {
          "base_uri": "https://localhost:8080/",
          "height": 295
        },
        "id": "TIy9dDtzpe7H",
        "outputId": "cf3651e6-b76d-4411-f888-f2ea6b26ac9f"
      },
      "source": [
        "plt.figure()\n",
        "plt.plot(history.history[\"loss\"], label=\"training loss\")\n",
        "plt.plot(history.history[\"val_loss\"], label=\"validation loss\")\n",
        "plt.title(f\"Loss for Inception model\")\n",
        "plt.xlabel(\"Epoch\")\n",
        "plt.ylabel(\"Loss\")\n",
        "plt.legend()\n",
        "plt.show()"
      ],
      "execution_count": 64,
      "outputs": [
        {
          "output_type": "display_data",
          "data": {
            "image/png": "[encoded data removed]",
            "text/plain": [
              "<Figure size 432x288 with 1 Axes>"
            ]
          },
          "metadata": {
            "tags": [],
            "needs_background": "light"
          }
        }
      ]
    },
    {
      "cell_type": "code",
      "metadata": {
        "colab": {
          "base_uri": "https://localhost:8080/",
          "height": 295
        },
        "id": "HaR6U9xfq9Vl",
        "outputId": "e2734064-6542-4c8f-d69a-6f76fe3fded1"
      },
      "source": [
        "plt.figure()\n",
        "plt.plot(history.history[\"acc\"], label=\"training accuracy\")\n",
        "plt.plot(history.history[\"val_acc\"], label=\"validation accuracy\")\n",
        "plt.title(f\"Accuracy for Inception model\")\n",
        "plt.xlabel(\"Epoch\")\n",
        "plt.ylabel(\"Loss\")\n",
        "plt.legend()\n",
        "plt.show()"
      ],
      "execution_count": 65,
      "outputs": [
        {
          "output_type": "display_data",
          "data": {
            "image/png": "[encoded data removed]",
            "text/plain": [
              "<Figure size 432x288 with 1 Axes>"
            ]
          },
          "metadata": {
            "tags": [],
            "needs_background": "light"
          }
        }
      ]
    }
  ]
}