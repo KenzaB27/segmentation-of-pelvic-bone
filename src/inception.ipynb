{
  "nbformat": 4,
  "nbformat_minor": 0,
  "metadata": {
    "orig_nbformat": 2,
    "kernelspec": {
      "name": "python3",
      "display_name": "Python 3"
    },
    "colab": {
      "name": "inception.ipynb",
      "provenance": [],
      "toc_visible": true,
      "machine_shape": "hm",
      "include_colab_link": true
    },
    "language_info": {
      "name": "python"
    },
    "accelerator": "GPU"
  },
  "cells": [
    {
      "cell_type": "markdown",
      "metadata": {
        "id": "view-in-github",
        "colab_type": "text"
      },
      "source": [
        "<a href=\"https://colab.research.google.com/github/KenzaB27/segmentation-of-pelvic-bone/blob/main/src/inception.ipynb\" target=\"_parent\"><img src=\"https://colab.research.google.com/assets/colab-badge.svg\" alt=\"Open In Colab\"/></a>"
      ]
    },
    {
      "cell_type": "markdown",
      "metadata": {
        "id": "h_s_WhpvmWGY"
      },
      "source": [
        "## Environment Setup"
      ]
    },
    {
      "cell_type": "code",
      "metadata": {
        "id": "P6mr-3VPmgw7"
      },
      "source": [
        "# !nvidia-smi"
      ],
      "execution_count": null,
      "outputs": []
    },
    {
      "cell_type": "code",
      "metadata": {
        "id": "iehzteGzm5VK",
        "outputId": "c0786050-6f15-4045-a3ef-76f17faa1bbc",
        "colab": {
          "base_uri": "https://localhost:8080/"
        }
      },
      "source": [
        "from google.colab import drive\n",
        "drive.mount('/content/drive')"
      ],
      "execution_count": 3,
      "outputs": [
        {
          "output_type": "stream",
          "text": [
            "Mounted at /content/drive\n"
          ],
          "name": "stdout"
        }
      ]
    },
    {
      "cell_type": "code",
      "metadata": {
        "id": "h_7-8LepmaJ7"
      },
      "source": [
        "!git clone https://github.com/KenzaB27/segmentation-of-pelvic-bone.git\n",
        "%cd /content/segmentation-of-pelvic-bone/src"
      ],
      "execution_count": null,
      "outputs": []
    },
    {
      "cell_type": "code",
      "metadata": {
        "id": "S8FuPWqVnSx3"
      },
      "source": [
        "!pip install SimpleITK"
      ],
      "execution_count": null,
      "outputs": []
    },
    {
      "cell_type": "code",
      "metadata": {
        "id": "BN6_wZKQmkqt"
      },
      "source": [
        "!git pull"
      ],
      "execution_count": null,
      "outputs": []
    },
    {
      "cell_type": "code",
      "metadata": {
        "id": "Q3KMHk00mURU"
      },
      "source": [
        "from sklearn.model_selection import train_test_split\n",
        "import matplotlib.pyplot as plt\n",
        "import SimpleITK as sitk\n",
        "import analysis as ana\n",
        "import numpy as np \n",
        "import importlib\n",
        "\n",
        "import tensorflow as tf \n",
        "tfk = tf.keras\n",
        "tfkl = tfk.layers"
      ],
      "execution_count": 47,
      "outputs": []
    },
    {
      "cell_type": "code",
      "metadata": {
        "id": "TT-Bbg8HmURY"
      },
      "source": [
        "DATA_PATH = \"/content/drive/My Drive/KTH/HL2027/data/\""
      ],
      "execution_count": 16,
      "outputs": []
    },
    {
      "cell_type": "markdown",
      "metadata": {
        "id": "V-gyXcaYn4oF"
      },
      "source": [
        "## Load Data"
      ]
    },
    {
      "cell_type": "code",
      "metadata": {
        "id": "ge65C6J6n4Qz",
        "outputId": "d56638d9-6054-45e0-a77a-bf660b35bb2e",
        "colab": {
          "base_uri": "https://localhost:8080/"
        }
      },
      "source": [
        "X_train_3C = np.load(DATA_PATH + \"train_X_3C.npy\")\n",
        "y_train = np.load(DATA_PATH + \"train_y.npy\")\n",
        "\n",
        "X_train, X_val, y_train, y_val = train_test_split(X_train_3C, y_train, test_size=0.15, random_state=42, stratify=y_train)\n",
        "print(f\"X train shape:{X_train.shape}, y train shape:{y_train.shape} \")\n",
        "print(f\"X val shape:{X_val.shape}, y val shape:{y_val.shape} \")"
      ],
      "execution_count": 50,
      "outputs": [
        {
          "output_type": "stream",
          "text": [
            "X train shape:(729, 512, 512, 3), y train shape:(729,) \n",
            "X val shape:(129, 512, 512, 3), y val shape:(129,) \n"
          ],
          "name": "stdout"
        }
      ]
    },
    {
      "cell_type": "markdown",
      "metadata": {
        "id": "CDjJJCQAmURd"
      },
      "source": [
        "## Inception V3 "
      ]
    },
    {
      "cell_type": "code",
      "metadata": {
        "id": "7R1aPuLbmURe"
      },
      "source": [
        "input = tfkl.Input([None, None, 3], dtype = tf.int16)\n",
        "x = tf.cast(input, tf.float32)\n",
        "x = tfk.applications.inception_v3.preprocess_input(x)\n",
        "inception_model = tfk.applications.InceptionV3(weights=\"imagenet\", include_top=False, pooling=\"max\")\n",
        "inception_output = inception_model(x)\n",
        "hidden_layer = tfkl.Dense(512, activation='relu')(inception_output)\n",
        "hl_reg = tfkl.Dropout(0.2)(hidden_layer)\n",
        "output_layer = tf.keras.layers.Dense(1, activation='sigmoid')(hl_reg)\n",
        "model = tf.keras.models.Model(inputs=input, outputs=output_layer)"
      ],
      "execution_count": 51,
      "outputs": []
    },
    {
      "cell_type": "code",
      "metadata": {
        "id": "MEaSV-ammURf",
        "outputId": "1eaa62b3-b14b-470d-e5a0-2add59f9e60c",
        "colab": {
          "base_uri": "https://localhost:8080/"
        }
      },
      "source": [
        "model.summary()"
      ],
      "execution_count": 52,
      "outputs": [
        {
          "output_type": "stream",
          "text": [
            "Model: \"model_5\"\n",
            "_________________________________________________________________\n",
            "Layer (type)                 Output Shape              Param #   \n",
            "=================================================================\n",
            "input_11 (InputLayer)        [(None, None, None, 3)]   0         \n",
            "_________________________________________________________________\n",
            "tf.cast_5 (TFOpLambda)       (None, None, None, 3)     0         \n",
            "_________________________________________________________________\n",
            "tf.math.truediv_5 (TFOpLambd (None, None, None, 3)     0         \n",
            "_________________________________________________________________\n",
            "tf.math.subtract_5 (TFOpLamb (None, None, None, 3)     0         \n",
            "_________________________________________________________________\n",
            "inception_v3 (Functional)    (None, 2048)              21802784  \n",
            "_________________________________________________________________\n",
            "dense_10 (Dense)             (None, 512)               1049088   \n",
            "_________________________________________________________________\n",
            "dropout_5 (Dropout)          (None, 512)               0         \n",
            "_________________________________________________________________\n",
            "dense_11 (Dense)             (None, 1)                 513       \n",
            "=================================================================\n",
            "Total params: 22,852,385\n",
            "Trainable params: 22,817,953\n",
            "Non-trainable params: 34,432\n",
            "_________________________________________________________________\n"
          ],
          "name": "stdout"
        }
      ]
    },
    {
      "cell_type": "markdown",
      "metadata": {
        "id": "baivHn9TmURf"
      },
      "source": [
        "### Training "
      ]
    },
    {
      "cell_type": "code",
      "metadata": {
        "id": "Bu_fE4h6mURf"
      },
      "source": [
        "# first: train only the top layers (which were randomly initialized)\n",
        "# i.e. freeze all convolutional InceptionV3 layers\n",
        "inception_model.trainable = False\n",
        "for layer in inception_model.layers:\n",
        "    layer.trainable = False\n",
        "\n",
        "# compile the model (should be done *after* setting layers to non-trainable)\n",
        "# optimizer = tf.keras.optimizers.Adam(learning_rate=0.0001, decay=1e-3)\n",
        "model.compile(optimizer=\"adam\", loss='binary_crossentropy', \n",
        "              metrics=['acc'])"
      ],
      "execution_count": 54,
      "outputs": []
    },
    {
      "cell_type": "code",
      "metadata": {
        "id": "Ec-dOpUqmURg",
        "outputId": "76d65521-0fe8-447e-a862-3d9bd4f1c4e8",
        "colab": {
          "base_uri": "https://localhost:8080/"
        }
      },
      "source": [
        "history = model.fit(x=X_train, y=y_train, epochs=20, batch_size=32, validation_data=(X_val, y_val))"
      ],
      "execution_count": 55,
      "outputs": [
        {
          "output_type": "stream",
          "text": [
            "Epoch 1/20\n",
            "23/23 [==============================] - 11s 296ms/step - loss: 6.5795 - acc: 0.8025 - val_loss: 3.5140 - val_acc: 0.8837\n",
            "Epoch 2/20\n",
            "23/23 [==============================] - 3s 140ms/step - loss: 2.4945 - acc: 0.8368 - val_loss: 1.2861 - val_acc: 0.8837\n",
            "Epoch 3/20\n",
            "23/23 [==============================] - 3s 139ms/step - loss: 0.7790 - acc: 0.8793 - val_loss: 0.8379 - val_acc: 0.8837\n",
            "Epoch 4/20\n",
            "23/23 [==============================] - 3s 140ms/step - loss: 1.2211 - acc: 0.8615 - val_loss: 0.1147 - val_acc: 0.9612\n",
            "Epoch 5/20\n",
            "23/23 [==============================] - 3s 140ms/step - loss: 0.5195 - acc: 0.8985 - val_loss: 0.0727 - val_acc: 0.9767\n",
            "Epoch 6/20\n",
            "23/23 [==============================] - 3s 139ms/step - loss: 0.2307 - acc: 0.9163 - val_loss: 0.0590 - val_acc: 0.9612\n",
            "Epoch 7/20\n",
            "23/23 [==============================] - 3s 140ms/step - loss: 0.1823 - acc: 0.9273 - val_loss: 0.1046 - val_acc: 0.9535\n",
            "Epoch 8/20\n",
            "23/23 [==============================] - 3s 140ms/step - loss: 0.1324 - acc: 0.9396 - val_loss: 0.0902 - val_acc: 0.9612\n",
            "Epoch 9/20\n",
            "23/23 [==============================] - 3s 140ms/step - loss: 0.1070 - acc: 0.9547 - val_loss: 0.0743 - val_acc: 0.9767\n",
            "Epoch 10/20\n",
            "23/23 [==============================] - 3s 140ms/step - loss: 0.1340 - acc: 0.9383 - val_loss: 0.0654 - val_acc: 0.9767\n",
            "Epoch 11/20\n",
            "23/23 [==============================] - 3s 140ms/step - loss: 0.1054 - acc: 0.9506 - val_loss: 0.0798 - val_acc: 0.9767\n",
            "Epoch 12/20\n",
            "23/23 [==============================] - 3s 139ms/step - loss: 0.1224 - acc: 0.9410 - val_loss: 0.0614 - val_acc: 0.9845\n",
            "Epoch 13/20\n",
            "23/23 [==============================] - 3s 140ms/step - loss: 0.1194 - acc: 0.9410 - val_loss: 0.1333 - val_acc: 0.9147\n",
            "Epoch 14/20\n",
            "23/23 [==============================] - 3s 140ms/step - loss: 0.1329 - acc: 0.9465 - val_loss: 0.0781 - val_acc: 0.9845\n",
            "Epoch 15/20\n",
            "23/23 [==============================] - 3s 140ms/step - loss: 0.0874 - acc: 0.9684 - val_loss: 0.0705 - val_acc: 0.9767\n",
            "Epoch 16/20\n",
            "23/23 [==============================] - 3s 140ms/step - loss: 0.1484 - acc: 0.9383 - val_loss: 0.3704 - val_acc: 0.8837\n",
            "Epoch 17/20\n",
            "23/23 [==============================] - 3s 140ms/step - loss: 0.2953 - acc: 0.8957 - val_loss: 0.1163 - val_acc: 0.9690\n",
            "Epoch 18/20\n",
            "23/23 [==============================] - 3s 139ms/step - loss: 0.1455 - acc: 0.9328 - val_loss: 0.0767 - val_acc: 0.9767\n",
            "Epoch 19/20\n",
            "23/23 [==============================] - 3s 140ms/step - loss: 0.1623 - acc: 0.9300 - val_loss: 0.0915 - val_acc: 0.9845\n",
            "Epoch 20/20\n",
            "23/23 [==============================] - 3s 139ms/step - loss: 0.1141 - acc: 0.9506 - val_loss: 0.0669 - val_acc: 0.9767\n"
          ],
          "name": "stdout"
        }
      ]
    },
    {
      "cell_type": "code",
      "metadata": {
        "id": "TIy9dDtzpe7H",
        "outputId": "3fa17b43-0613-4e6d-c651-41c5d8d55ac2",
        "colab": {
          "base_uri": "https://localhost:8080/",
          "height": 295
        }
      },
      "source": [
        "plt.figure()\n",
        "plt.plot(history.history[\"loss\"], label=\"training loss\")\n",
        "plt.plot(history.history[\"val_loss\"], label=\"validation loss\")\n",
        "plt.title(f\"Loss for Inception model\")\n",
        "plt.xlabel(\"Epoch\")\n",
        "plt.ylabel(\"Loss\")\n",
        "plt.legend()\n",
        "plt.show()"
      ],
      "execution_count": 56,
      "outputs": [
        {
          "output_type": "display_data",
          "data": {
            "image/png": "[encoded data removed]",
            "text/plain": [
              "<Figure size 432x288 with 1 Axes>"
            ]
          },
          "metadata": {
            "tags": [],
            "needs_background": "light"
          }
        }
      ]
    },
    {
      "cell_type": "code",
      "metadata": {
        "id": "HaR6U9xfq9Vl",
        "outputId": "d6bd6327-db7d-4dae-fe21-a9030e98e589",
        "colab": {
          "base_uri": "https://localhost:8080/",
          "height": 295
        }
      },
      "source": [
        "plt.figure()\n",
        "plt.plot(history.history[\"acc\"], label=\"training accuracy\")\n",
        "plt.plot(history.history[\"val_acc\"], label=\"validation accuracy\")\n",
        "plt.title(f\"Accuracy for Inception model\")\n",
        "plt.xlabel(\"Epoch\")\n",
        "plt.ylabel(\"Loss\")\n",
        "plt.legend()\n",
        "plt.show()"
      ],
      "execution_count": 57,
      "outputs": [
        {
          "output_type": "display_data",
          "data": {
            "image/png": "[encoded data removed]",
            "text/plain": [
              "<Figure size 432x288 with 1 Axes>"
            ]
          },
          "metadata": {
            "tags": [],
            "needs_background": "light"
          }
        }
      ]
    }
  ]
}